{
 "cells": [
  {
   "cell_type": "markdown",
   "id": "5ddfaf61",
   "metadata": {
    "tags": []
   },
   "source": [
    "#  `Cobaya` in `lenstronomy`\n",
    "<b>Author</b>: Natalie B. Hogg\n",
    "\n",
    "This notebook demonstrates how to use [`Cobaya`](https://cobaya.readthedocs.io/en/latest/index.html) for strong lens model fitting with [`lenstronomy`](https://lenstronomy.readthedocs.io/en/latest/). \n",
    "\n",
    "It assumes some familiarity with Bayesian sampling methods and strong lens modelling."
   ]
  },
  {
   "cell_type": "markdown",
   "id": "7c6a44fb",
   "metadata": {},
   "source": [
    "## Contents\n",
    "<a name=\"contents\"></a>\n",
    "1. [Introduction](#intro)\n",
    "2. [Set up](#setup)\n",
    "3. [Create the lens](#create_lens)\n",
    "4. [Create the image](#create_image)\n",
    "5. [Fit the image](#analyse_image)\n",
    "6. [Result](#contour)"
   ]
  },
  {
   "cell_type": "markdown",
   "id": "ae0dc50a",
   "metadata": {},
   "source": [
    "## Introduction <a name=\"intro\"></a>\n",
    "\n",
    "Let us begin by noting that `Cobaya` is actually a complete Python interface for cosmological Boltzmann solvers (`CAMB`, `CLASS`) and multiple sampling packages. In this notebook, I use \"`Cobaya`\" as a shorthand for the [pure Metropolis--Hastings MCMC sampler](https://cobaya.readthedocs.io/en/latest/sampler_mcmc.html) provided by the package. This MCMC sampler employs the same \"fast dragging\" algorithm as that in `CosmoMC` and `Montepython`, though the fast/slow parameter hierarchy is currently not available in the `lenstronomy` implementation.\n",
    "\n",
    "### Current status of sampling methods in `lenstronomy`\n",
    "Up to and including `v1.11.1`, the available sampling methods in `lenstronomy` fall into two broad classes: ensemble MCMC methods (`emcee` and `zeus`) and nested sampling methods (`polychord`, `dynesty`, `multinest`). \n",
    "\n",
    "- Ensemble MCMC methods explore the parameter space using an ensemble of so-called \"walkers\". The walkers' positions are not independent; in a typical ensemble MCMC algorithm, the position of each walker will be updated based on the positions of all the other walkers.\n",
    "\n",
    "- Nested sampling methods do not work by constructing a Markov chain. Instead, the prior volume is populated with a collection of \"live\" points. The point with the lowest probability is identified\n",
    "\n",
    "The pure Metropolis--Hastings MCMC method of `Cobaya` is a third distinct sampling method, and one which predates both of the above classes of methods.\n",
    "\n",
    "### Why use `Cobaya`?\n",
    "There are (at least) three reasons why you should consider using `Cobaya` :\n",
    "1. Ensemble methods are doomed to fail in high dimensions.\n",
    "2. Convergence statistics like the Gelman--Rubin criterion ($R-1$) are more easily and safely evaluated since the chains are independent.\n",
    "3. `Cobaya` produces a much more useful collection of output products beyond the MCMC samples; especially useful is the covariance matrix which can be used to initialise future runs, as I will demonstrate later in this notebook. It is also more informative than `emcee` while it is running.\n",
    "\n",
    "### Bibliography"
   ]
  },
  {
   "cell_type": "markdown",
   "id": "94ee4600",
   "metadata": {},
   "source": [
    "## Set up <a name=\"setup\"></a>"
   ]
  },
  {
   "cell_type": "code",
   "execution_count": 1,
   "id": "e648f8e3",
   "metadata": {},
   "outputs": [],
   "source": [
    "import numpy as np\n",
    "from matplotlib import rc, rcParams, rcParamsDefault, pyplot as plt\n",
    "import getdist.plots as gdplt\n",
    "import os\n",
    "\n",
    "# lenstronomy\n",
    "from lenstronomy.SimulationAPI.sim_api import SimAPI\n",
    "from lenstronomy.SimulationAPI.ObservationConfig.HST import HST\n",
    "from lenstronomy.Workflow.fitting_sequence import FittingSequence\n",
    "from lenstronomy.Plots.model_plot import ModelPlot\n",
    "\n",
    "import warnings\n",
    "warnings.filterwarnings('ignore')\n",
    "\n",
    "%matplotlib inline\n",
    "\n",
    "# use TeX\n",
    "rc('text', usetex=True)\n",
    "rc('font', family='serif')\n",
    "rcParams.update({'font.size': 18})\n",
    "\n",
    "outpath = 'chains/my_first_cobaya_chain'"
   ]
  },
  {
   "cell_type": "markdown",
   "id": "458c144c",
   "metadata": {},
   "source": [
    "## Create the lens <a name=\"create_lens\"></a>\n",
    "\n",
    "[Back to contents](#contents)"
   ]
  },
  {
   "cell_type": "code",
   "execution_count": 2,
   "id": "6c0f6a9f",
   "metadata": {},
   "outputs": [],
   "source": [
    "# source model\n",
    "source_model_list = ['SERSIC']\n",
    "\n",
    "magnitude_source = 24.0\n",
    "R_sersic_source = 0.3\n",
    "n_sersic_source = 3.0\n",
    "x_source = 0.1\n",
    "y_source = 0.1\n",
    "\n",
    "kwargs_sersic = {'magnitude': magnitude_source,\n",
    "                 'R_sersic': R_sersic_source, \n",
    "                 'n_sersic': n_sersic_source, \n",
    "                 'center_x': x_source, \n",
    "                 'center_y': y_source}\n",
    "\n",
    "kwargs_source = [kwargs_sersic]"
   ]
  },
  {
   "cell_type": "code",
   "execution_count": 3,
   "id": "7bd5eb09",
   "metadata": {},
   "outputs": [],
   "source": [
    "# lens model\n",
    "lens_model_list = ['SIS', 'LOS_MINIMAL']\n",
    "\n",
    "theta_E = 1.5\n",
    "x_lens = 0.0\n",
    "y_lens = 0.0\n",
    "\n",
    "kwargs_sis = {'theta_E': theta_E,\n",
    "              'center_x': x_lens,\n",
    "              'center_y': y_lens}\n",
    "\n",
    "kwargs_los = {'gamma1_od': 0.01, 'gamma2_od': 0.01, 'kappa_od': 0.0, 'omega_od': 0.0,\n",
    "              'gamma1_los': -0.02, 'gamma2_los': -0.03, 'kappa_los': 0.0, 'omega_los': 0.0}"
   ]
  },
  {
   "cell_type": "code",
   "execution_count": 4,
   "id": "92c69650",
   "metadata": {},
   "outputs": [],
   "source": [
    "kwargs_lens = [kwargs_sis, kwargs_los]\n",
    "\n",
    "kwargs_model = {'lens_model_list': lens_model_list,\n",
    "                'source_light_model_list': source_model_list}"
   ]
  },
  {
   "cell_type": "markdown",
   "id": "3dd8f04f",
   "metadata": {},
   "source": [
    "## Create the image <a name=\"create_image\"></a>\n",
    "\n",
    "[Back to contents](#contents)"
   ]
  },
  {
   "cell_type": "code",
   "execution_count": 5,
   "id": "096ad5e1",
   "metadata": {},
   "outputs": [],
   "source": [
    "# get the telescope settings for HST\n",
    "psf = 'GAUSSIAN'\n",
    "band = HST(band='WFC3_F160W', psf_type=psf) # this chooses the specific camera and filter of HST\n",
    "kwargs_band = band.kwargs_single_band() # we are only considering a single band (i.e. a single wavelength/filter)\n",
    "pixel_size = band.camera['pixel_scale'] # in arcsec\n",
    "\n",
    "kwargs_psf = {'psf_type': psf,\n",
    "              'fwhm': kwargs_band['seeing'],\n",
    "              'pixel_size': pixel_size,\n",
    "              'truncation': 3}\n",
    "\n",
    "# define the numerics\n",
    "kwargs_numerics = {'supersampling_factor': 1,\n",
    "                   'supersampling_convolution': False}\n",
    "\n",
    "# call the simulation API class\n",
    "sim = SimAPI(numpix = 60, # number of pixels we want in our image\n",
    "             kwargs_single_band = kwargs_band, # give the SimAPI class the keyword arguments for HST that we got above\n",
    "             kwargs_model = kwargs_model)\n",
    "\n",
    "kwargs_data = sim.kwargs_data"
   ]
  },
  {
   "cell_type": "code",
   "execution_count": 6,
   "id": "a6ce2031",
   "metadata": {},
   "outputs": [],
   "source": [
    "# convert magnitudes into amplitudes\n",
    "# we don't care about lens light or point source here\n",
    "ll, kwargs_source, ps = sim.magnitude2amplitude(kwargs_source_mag=kwargs_source)"
   ]
  },
  {
   "cell_type": "code",
   "execution_count": 7,
   "id": "58735383",
   "metadata": {},
   "outputs": [],
   "source": [
    "# now use the SimAPI class to generate a noisy image in one step\n",
    "imSim = sim.image_model_class(kwargs_numerics)\n",
    "\n",
    "image = imSim.image(kwargs_lens = kwargs_lens,\n",
    "                    kwargs_source = kwargs_source)\n",
    "\n",
    "image_noisy = image + sim.noise_for_model(model = image)\n",
    "\n",
    "kwargs_data['image_data'] = image_noisy"
   ]
  },
  {
   "cell_type": "code",
   "execution_count": 8,
   "id": "b7e046e8",
   "metadata": {},
   "outputs": [
    {
     "data": {
      "image/png": "[encoded data removed]",
      "text/plain": [
       "<Figure size 600x600 with 1 Axes>"
      ]
     },
     "metadata": {},
     "output_type": "display_data"
    }
   ],
   "source": [
    "# plot the image\n",
    "cmap_string = 'bone'\n",
    "cmap = plt.get_cmap(cmap_string)\n",
    "cmap.set_bad(color='k', alpha=1.)\n",
    "cmap.set_under('k')\n",
    "\n",
    "v_min = -2\n",
    "v_max = 1\n",
    "\n",
    "f, ax = plt.subplots(1, 1, figsize=(6, 6), sharex=False, sharey=False)\n",
    "im = ax.matshow(np.log10(image_noisy), origin='lower', vmin=v_min, vmax=v_max, cmap=cmap, extent=[0, 1, 0, 1])\n",
    "ax.get_xaxis().set_visible(False)\n",
    "ax.get_yaxis().set_visible(False)\n",
    "ax.autoscale(False)\n",
    "\n",
    "plt.show()"
   ]
  },
  {
   "cell_type": "markdown",
   "id": "0a725ae5",
   "metadata": {},
   "source": [
    "## Fit the image  <a name=\"analyse_image\"></a>\n",
    "\n",
    "[Back to contents](#contents)"
   ]
  },
  {
   "cell_type": "code",
   "execution_count": 9,
   "id": "e7a535f6",
   "metadata": {},
   "outputs": [],
   "source": [
    "# LENS MODEL\n",
    "\n",
    "lens_model_list = ['SIS', 'LOS_MINIMAL']\n",
    "\n",
    "# Initialise the lists of parameters\n",
    "fixed_lens = []\n",
    "kwargs_lens_init = []\n",
    "kwargs_lens_sigma = []\n",
    "kwargs_lower_lens = []\n",
    "kwargs_upper_lens = []\n",
    "\n",
    "fixed_lens.append({'center_x': x_lens, 'center_y': y_lens})\n",
    "kwargs_lens_init.append({'theta_E': theta_E})\n",
    "# kwargs_lens_sigma.append({'theta_E': 0.1}) # what happens if you pass None here? cobaya doesnt need them\n",
    "kwargs_lower_lens.append({'theta_E': 1.0})\n",
    "kwargs_upper_lens.append({'theta_E': 3.0})\n",
    "\n",
    "params = ['gamma1_od', 'gamma2_od', 'gamma1_los', 'gamma2_los']\n",
    "\n",
    "fixed_lens.append({'kappa_od': 0.0, 'omega_od': 0.0, 'kappa_los': 0.0, 'omega_los': 0.0})\n",
    "kwargs_lens_init.append({'gamma1_od': kwargs_los['gamma1_od'], 'gamma2_od': kwargs_los['gamma2_od'],\n",
    "                        'gamma1_los': kwargs_los['gamma1_los'], 'gamma2_los': kwargs_los['gamma2_los']})\n",
    "\n",
    "# kwargs_lens_sigma.append({param: 0.1 for param in params})\n",
    "kwargs_lower_lens.append({param: -0.5 for param in params})\n",
    "kwargs_upper_lens.append({param: 0.5 for param in params})\n",
    "\n",
    "lens_params = [kwargs_lens_init,\n",
    "               kwargs_lens_sigma,\n",
    "               fixed_lens,\n",
    "               kwargs_lower_lens,\n",
    "               kwargs_upper_lens]\n",
    "\n",
    "# SOURCE MODEL\n",
    "\n",
    "source_model_list = ['SERSIC']\n",
    "\n",
    "# Initialise the lists of parameters\n",
    "fixed_source = []\n",
    "kwargs_source_init = []\n",
    "kwargs_source_sigma = []\n",
    "kwargs_lower_source = []\n",
    "kwargs_upper_source = []\n",
    "\n",
    "\n",
    "# Define parameters\n",
    "fixed_source.append({})\n",
    "kwargs_source_init.append({'center_x': x_source,\n",
    "                           'center_y': y_source,\n",
    "                           'R_sersic': R_sersic_source, \n",
    "                           'n_sersic': n_sersic_source})\n",
    "\n",
    "# kwargs_source_sigma.append({'center_x': 0.01, 'center_y': 0.01,\n",
    "#                             'R_sersic': 0.1, 'n_sersic': 0.1})\n",
    "\n",
    "kwargs_lower_source.append({'center_x': -1.0, 'center_y': -1.0,\n",
    "                            'R_sersic': 0.0, 'n_sersic': 0.0})\n",
    "\n",
    "kwargs_upper_source.append({'center_x': 1.0, 'center_y': 1.0,\n",
    "                            'R_sersic': 10.0, 'n_sersic': 6.0})\n",
    "\n",
    "source_params = [kwargs_source_init, kwargs_source_sigma,\n",
    "                 fixed_source, kwargs_lower_source, kwargs_upper_source]\n",
    "\n",
    "kwargs_params = {'lens_model': lens_params,\n",
    "                 'source_model': source_params}"
   ]
  },
  {
   "cell_type": "code",
   "execution_count": 10,
   "id": "92f54cfa",
   "metadata": {},
   "outputs": [],
   "source": [
    "kwargs_likelihood = {'source_marg': True}\n",
    "\n",
    "kwargs_model = {'lens_model_list': lens_model_list,\n",
    "                'source_light_model_list': source_model_list}\n",
    "\n",
    "multi_band_list = [[kwargs_data, kwargs_psf, kwargs_numerics]]\n",
    "\n",
    "kwargs_data_joint = {'multi_band_list': multi_band_list,\n",
    "                     'multi_band_type': 'multi-linear'}\n",
    "\n",
    "kwargs_constraints = {}"
   ]
  },
  {
   "cell_type": "code",
   "execution_count": 11,
   "id": "3971a26f",
   "metadata": {},
   "outputs": [],
   "source": [
    "labels = [# SIS\n",
    "          r'$\\theta_{\\rm E}$',\n",
    "          # LOS\n",
    "          r'$\\gamma_1^{\\rm od}$',\n",
    "          r'$\\gamma_2^{\\rm od}$',\n",
    "          r'$\\gamma_1^{\\rm LOS}$',\n",
    "          r'$\\gamma_2^{\\rm LOS}$',\n",
    "          # source\n",
    "          r'$R_{\\rm S\\acute{e}rsic}$',\n",
    "          r'$n_{\\rm S\\acute{e}rsic}$',\n",
    "          r'$x_{\\rm source}$',\n",
    "          r'$y_{\\rm source}$']\n",
    "\n",
    "expected_values = [# SIS\n",
    "                   kwargs_sis['theta_E'],\n",
    "                   # LOS\n",
    "                   kwargs_los['gamma1_od'],\n",
    "                   kwargs_los['gamma2_od'],\n",
    "                   kwargs_los['gamma1_los'],\n",
    "                   kwargs_los['gamma1_los'],\n",
    "                   # source\n",
    "                   kwargs_sersic['R_sersic'],\n",
    "                   kwargs_sersic['n_sersic'],\n",
    "                   kwargs_sersic['center_x'],\n",
    "                   kwargs_sersic['center_y']]\n",
    "\n",
    "proposals = [0.001]*len(labels)"
   ]
  },
  {
   "cell_type": "code",
   "execution_count": 13,
   "id": "482f3441",
   "metadata": {
    "scrolled": true
   },
   "outputs": [
    {
     "name": "stdout",
     "output_type": "stream",
     "text": [
      "Using the Metropolis--Hastings MCMC sampler in Cobaya.\n",
      "[output] Output to be read-from/written-into folder 'chains', with prefix 'test_mpi'\n",
      "[lenstronomy_likelihood] Initialized external likelihood.\n",
      "[mcmc] Getting initial point... (this may take a few seconds)\n",
      "[model] Measuring speeds... (this may take a few seconds)\n",
      "[model] Setting measured speeds (per sec): {lenstronomy_likelihood: 546.0}\n",
      "[mcmc] Covariance matrix loaded for params ['theta_E_lens0', 'gamma1_od_lens1', 'gamma2_od_lens1', 'gamma1_los_lens1', 'gamma2_los_lens1', 'R_sersic_source_light0', 'n_sersic_source_light0', 'center_x_source_light0', 'center_y_source_light0']\n",
      "[mcmc] All parameters' covariance loaded from given covmat.\n",
      "[mcmc] Initial point: theta_E_lens0:1.5, gamma1_od_lens1:0.01, gamma2_od_lens1:0.01, gamma1_los_lens1:-0.02, gamma2_los_lens1:-0.02, R_sersic_source_light0:0.3, n_sersic_source_light0:3, center_x_source_light0:0.1, center_y_source_light0:0.1\n",
      "[mcmc] Sampling!\n",
      "[mcmc] *ERROR* The chain has been stuck for 360 attempts, stopping sampling. Make sure the reference point is sensible and initial covmat. For parameters not included in an initial covmat, the 'proposal' width set for each parameter should be of order of the expected conditional posterior width, which may be much smaller than the marginalized posterior width - choose a smaller rather than larger value if in doubt. You can also decrease the 'proposal_scale' option for mcmc, though small values will sample less efficiently once things converge. Or make your starting 'ref'tighter around an expected best-fit value\n",
      "Alternatively (though not advisable) make 'max_tries: np.inf' (or 'max_tries: .inf' in yaml).\n",
      "Current point: theta_E_lens0:1.491689, gamma1_od_lens1:0.01435248, gamma2_od_lens1:0.01091624, gamma1_los_lens1:-0.01629549, gamma2_los_lens1:-0.02609744, R_sersic_source_light0:0.2461327, n_sersic_source_light0:2.956145, center_x_source_light0:0.09300511, center_y_source_light0:0.09962712\n",
      "Current result: LogPosterior(logpost=-4148.739862680701, logpriors=[-6.1737861039019375], loglikes=array([-4142.56607658]), derived=[], finite=False)\n",
      "Last proposal: [ 1.47707566  0.05184148 -0.01110143  0.01982013 -0.03981857  0.39757969\n",
      "  2.80297547  0.14127222  0.09401152]\n",
      "With rejected result: LogPosterior(logpost=-44050.23811206037, logpriors=[-6.1737861039019375], loglikes=array([-44044.06432596]), derived=[], finite=False)\n",
      "Sampling with MPI failed!\n"
     ]
    },
    {
     "ename": "UnboundLocalError",
     "evalue": "local variable 'sampler' referenced before assignment",
     "output_type": "error",
     "traceback": [
      "\u001b[0;31m---------------------------------------------------------------------------\u001b[0m",
      "\u001b[0;31mUnboundLocalError\u001b[0m                         Traceback (most recent call last)",
      "Cell \u001b[0;32mIn[13], line 15\u001b[0m\n\u001b[1;32m      4\u001b[0m kwargs_cobaya \u001b[38;5;241m=\u001b[39m {\u001b[38;5;124m'\u001b[39m\u001b[38;5;124mstarting_points\u001b[39m\u001b[38;5;124m'\u001b[39m: expected_values,\n\u001b[1;32m      5\u001b[0m                  \u001b[38;5;124m'\u001b[39m\u001b[38;5;124mproposal_widths\u001b[39m\u001b[38;5;124m'\u001b[39m: proposals,\n\u001b[1;32m      6\u001b[0m                  \u001b[38;5;124m'\u001b[39m\u001b[38;5;124mlatex\u001b[39m\u001b[38;5;124m'\u001b[39m: labels,\n\u001b[0;32m   (...)\u001b[0m\n\u001b[1;32m     10\u001b[0m                  \u001b[38;5;124m'\u001b[39m\u001b[38;5;124mpath\u001b[39m\u001b[38;5;124m'\u001b[39m: outpath, \u001b[38;5;66;03m# saves the chain file 'test.1.txt' to the 'chains' folder\u001b[39;00m\n\u001b[1;32m     11\u001b[0m                  \u001b[38;5;124m'\u001b[39m\u001b[38;5;124mforce_overwrite\u001b[39m\u001b[38;5;124m'\u001b[39m: \u001b[38;5;28;01mTrue\u001b[39;00m}\n\u001b[1;32m     13\u001b[0m fitting_kwargs_list \u001b[38;5;241m=\u001b[39m [[\u001b[38;5;124m'\u001b[39m\u001b[38;5;124mmetropolis_hastings\u001b[39m\u001b[38;5;124m'\u001b[39m, kwargs_cobaya]]\n\u001b[0;32m---> 15\u001b[0m chain_list \u001b[38;5;241m=\u001b[39m \u001b[43mfitting_seq\u001b[49m\u001b[38;5;241;43m.\u001b[39;49m\u001b[43mfit_sequence\u001b[49m\u001b[43m(\u001b[49m\u001b[43mfitting_kwargs_list\u001b[49m\u001b[43m)\u001b[49m\n\u001b[1;32m     17\u001b[0m kwargs_result \u001b[38;5;241m=\u001b[39m chain_list[\u001b[38;5;241m0\u001b[39m][\u001b[38;5;241m2\u001b[39m]\n",
      "File \u001b[0;32m~/.local/lib/python3.8/site-packages/lenstronomy-1.11.1-py3.8.egg/lenstronomy/Workflow/fitting_sequence.py:144\u001b[0m, in \u001b[0;36mFittingSequence.fit_sequence\u001b[0;34m(self, fitting_list)\u001b[0m\n\u001b[1;32m    141\u001b[0m sampler \u001b[38;5;241m=\u001b[39m CobayaSampler(\u001b[38;5;28mself\u001b[39m\u001b[38;5;241m.\u001b[39mlikelihoodModule)\n\u001b[1;32m    143\u001b[0m \u001b[38;5;66;03m# run the sampler\u001b[39;00m\n\u001b[0;32m--> 144\u001b[0m updated_info, sampler_type, best_fit_values \u001b[38;5;241m=\u001b[39m \u001b[43msampler\u001b[49m\u001b[38;5;241;43m.\u001b[39;49m\u001b[43mrun\u001b[49m\u001b[43m(\u001b[49m\u001b[38;5;241;43m*\u001b[39;49m\u001b[38;5;241;43m*\u001b[39;49m\u001b[43mkwargs\u001b[49m\u001b[43m)\u001b[49m\n\u001b[1;32m    146\u001b[0m \u001b[38;5;66;03m# change the best-fit values returned by cobaya into lenstronomy kwargs format\u001b[39;00m\n\u001b[1;32m    147\u001b[0m best_fit_kwargs \u001b[38;5;241m=\u001b[39m \u001b[38;5;28mself\u001b[39m\u001b[38;5;241m.\u001b[39mparam_class\u001b[38;5;241m.\u001b[39margs2kwargs(best_fit_values, bijective\u001b[38;5;241m=\u001b[39m\u001b[38;5;28;01mTrue\u001b[39;00m)\n",
      "File \u001b[0;32m~/.local/lib/python3.8/site-packages/lenstronomy-1.11.1-py3.8.egg/lenstronomy/Sampling/Samplers/cobaya_sampler.py:144\u001b[0m, in \u001b[0;36mCobayaSampler.run\u001b[0;34m(self, **kwargs)\u001b[0m\n\u001b[1;32m    140\u001b[0m     \u001b[38;5;28mprint\u001b[39m(\u001b[38;5;124m'\u001b[39m\u001b[38;5;124mSampling with MPI failed!\u001b[39m\u001b[38;5;124m'\u001b[39m)\n\u001b[1;32m    142\u001b[0m \u001b[38;5;66;03m# get the best fit (max likelihood); format returned is a pandas series\u001b[39;00m\n\u001b[1;32m    143\u001b[0m \u001b[38;5;66;03m# this bypasses lenstronomy's way of doing it but matches lenstronomy result\u001b[39;00m\n\u001b[0;32m--> 144\u001b[0m best_fit_series \u001b[38;5;241m=\u001b[39m \u001b[43msampler\u001b[49m\u001b[38;5;241m.\u001b[39mcollection\u001b[38;5;241m.\u001b[39mbestfit()\n\u001b[1;32m    146\u001b[0m \u001b[38;5;66;03m# turn that pandas series into a list (of floats)\u001b[39;00m\n\u001b[1;32m    147\u001b[0m best_fit_values \u001b[38;5;241m=\u001b[39m best_fit_series[sampled_params]\u001b[38;5;241m.\u001b[39mvalues\u001b[38;5;241m.\u001b[39mtolist()\n",
      "\u001b[0;31mUnboundLocalError\u001b[0m: local variable 'sampler' referenced before assignment"
     ]
    }
   ],
   "source": [
    "fitting_seq = FittingSequence(kwargs_data_joint, kwargs_model, kwargs_constraints, \n",
    "                              kwargs_likelihood, kwargs_params)\n",
    "\n",
    "kwargs_cobaya = {'starting_points': expected_values,\n",
    "                 'proposal_widths': proposals,\n",
    "                 'latex': labels,\n",
    "                 'covmat': 'chains/test_mpi_script.covmat',\n",
    "                 'Rminus1_stop': 10,\n",
    "                 'path': outpath, # saves the chain file 'test.1.txt' to the 'chains' folder\n",
    "                 'force_overwrite': True}\n",
    "\n",
    "fitting_kwargs_list = [['metropolis_hastings', kwargs_cobaya]]\n",
    "\n",
    "chain_list = fitting_seq.fit_sequence(fitting_kwargs_list)\n",
    "\n",
    "kwargs_result = chain_list[0][2]"
   ]
  },
  {
   "cell_type": "code",
   "execution_count": null,
   "id": "fba7b855",
   "metadata": {},
   "outputs": [],
   "source": [
    "# use cobaya to plot the progress of the chain (R-1 and acceptance rate)\n",
    "from cobaya.samplers.mcmc import plot_progress\n",
    "plot_progress(outpath, figure_kwargs={\"figsize\": (6,6)})\n",
    "plt.show()"
   ]
  },
  {
   "cell_type": "code",
   "execution_count": null,
   "id": "623fc451",
   "metadata": {},
   "outputs": [],
   "source": [
    "# fitting_seq = FittingSequence(kwargs_data_joint, kwargs_model, kwargs_constraints, \n",
    "#                               kwargs_likelihood, kwargs_params)\n",
    "\n",
    "# fitting_kwargs_list = [['MCMC',\n",
    "#                         {'n_burn': 10, \n",
    "#                          'n_run': 10,\n",
    "#                          'walkerRatio': 10, \n",
    "#                          'sigma_scale': 1e-2}]]\n",
    "\n",
    "# chain_list_emcee = fitting_seq.fit_sequence(fitting_kwargs_list)\n",
    "# kwargs_result_emcee = fitting_seq.best_fit()"
   ]
  },
  {
   "cell_type": "code",
   "execution_count": null,
   "id": "1028a246",
   "metadata": {},
   "outputs": [],
   "source": [
    "modelPlot = ModelPlot(multi_band_list, kwargs_model, kwargs_result,\n",
    "                      arrow_size=0.02, cmap_string=\"gist_heat\")\n",
    "    \n",
    "f, axes = plt.subplots(2, 3, figsize=(16, 8), sharex=False, sharey=False)\n",
    "\n",
    "modelPlot.data_plot(ax=axes[0,0])\n",
    "modelPlot.model_plot(ax=axes[0,1])\n",
    "modelPlot.normalized_residual_plot(ax=axes[0,2], v_min=-6, v_max=6, text='Normalised residuals')\n",
    "modelPlot.source_plot(ax=axes[1, 0], deltaPix_source=0.01, numPix=100)\n",
    "modelPlot.convergence_plot(ax=axes[1, 1], v_max=1)\n",
    "modelPlot.magnification_plot(ax=axes[1, 2])\n",
    "f.tight_layout()\n",
    "f.subplots_adjust(left=None, bottom=None, right=None, top=None, wspace=0., hspace=0.05)\n",
    "\n",
    "plt.show()"
   ]
  },
  {
   "cell_type": "markdown",
   "id": "87f3cfed",
   "metadata": {},
   "source": [
    "### Contour plot <a name=\"contour\"></a>"
   ]
  },
  {
   "cell_type": "code",
   "execution_count": null,
   "id": "fdc21b2b",
   "metadata": {},
   "outputs": [],
   "source": [
    "folder, name = os.path.split(os.path.abspath('/home/natalie/Documents/Codes/cobaya/'+ outpath))\n",
    "\n",
    "g = gdplt.get_subplot_plotter(chain_dir=folder, width_inch=7, analysis_settings={'ignore_rows':0.3})\n",
    "\n",
    "g.settings.axes_fontsize=18\n",
    "g.settings.axes_labelsize=20\n",
    "g.settings.linewidth_contour = 4\n",
    "g.settings.linewidth = 4\n",
    "\n",
    "plot_params = ['theta_E_lens0', 'R_sersic_source_light0', \n",
    "               'n_sersic_source_light0', 'center_x_source_light0', 'center_y_source_light0']\n",
    "\n",
    "g.triangle_plot(name, plot_params, filled=True, contour_colors = ['#b3cde3'])\n",
    "\n",
    "plt.show()"
   ]
  },
  {
   "cell_type": "code",
   "execution_count": null,
   "id": "9b3cc3c5",
   "metadata": {},
   "outputs": [],
   "source": [
    "g = gdplt.get_subplot_plotter(chain_dir=folder, width_inch=7, analysis_settings={'ignore_rows':0.3})\n",
    "\n",
    "g.settings.axes_fontsize=18\n",
    "g.settings.axes_labelsize=20\n",
    "g.settings.linewidth_contour = 4\n",
    "g.settings.linewidth = 4\n",
    "\n",
    "plot_params = ['gamma1_od_lens1', 'gamma2_od_lens1', 'gamma1_los_lens1', 'gamma2_los_lens1']\n",
    "\n",
    "g.triangle_plot(name, plot_params, filled=True, contour_colors = ['#b3cde3'])\n",
    "\n",
    "plt.show()"
   ]
  },
  {
   "cell_type": "markdown",
   "id": "80cfba4f",
   "metadata": {},
   "source": [
    "[Back to contents](#contents)"
   ]
  }
 ],
 "metadata": {
  "kernelspec": {
   "display_name": "Python 3 (ipykernel)",
   "language": "python",
   "name": "python3"
  },
  "language_info": {
   "codemirror_mode": {
    "name": "ipython",
    "version": 3
   },
   "file_extension": ".py",
   "mimetype": "text/x-python",
   "name": "python",
   "nbconvert_exporter": "python",
   "pygments_lexer": "ipython3",
   "version": "3.8.5"
  }
 },
 "nbformat": 4,
 "nbformat_minor": 5
}
